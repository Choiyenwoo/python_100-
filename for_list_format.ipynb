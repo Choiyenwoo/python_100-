{
 "cells": [
  {
   "cell_type": "markdown",
   "metadata": {},
   "source": [
    "### for_list_format"
   ]
  },
  {
   "cell_type": "code",
   "execution_count": 8,
   "metadata": {},
   "outputs": [
    {
     "name": "stdout",
     "output_type": "stream",
     "text": [
      "[1, 2, 3, 4, 5]\n"
     ]
    }
   ],
   "source": [
    "num = [1,2,3,4,5]\n",
    "print(num)"
   ]
  },
  {
   "cell_type": "code",
   "execution_count": 9,
   "metadata": {},
   "outputs": [
    {
     "data": {
      "text/plain": [
       "list"
      ]
     },
     "execution_count": 9,
     "metadata": {},
     "output_type": "execute_result"
    }
   ],
   "source": [
    "type(num)"
   ]
  },
  {
   "cell_type": "code",
   "execution_count": 12,
   "metadata": {},
   "outputs": [
    {
     "name": "stdout",
     "output_type": "stream",
     "text": [
      "1 번/2 번/3 번/4 번/5 번/"
     ]
    }
   ],
   "source": [
    "for i in num:\n",
    "    print(i,'번',  end = '/')"
   ]
  },
  {
   "cell_type": "code",
   "execution_count": 43,
   "metadata": {},
   "outputs": [
    {
     "name": "stdout",
     "output_type": "stream",
     "text": [
      "1번 2번 3번 4번 5번 "
     ]
    }
   ],
   "source": [
    "for i in num :\n",
    "    print('%d번'%i,  end = ' ')"
   ]
  },
  {
   "cell_type": "code",
   "execution_count": 45,
   "metadata": {},
   "outputs": [
    {
     "name": "stdout",
     "output_type": "stream",
     "text": [
      "10 는0이아니다\n"
     ]
    }
   ],
   "source": [
    "i=10\n",
    "if i==0 :\n",
    "    print(i , '는0이다')\n",
    "else :\n",
    "    print(i , '는0이아니다')"
   ]
  },
  {
   "cell_type": "code",
   "execution_count": 46,
   "metadata": {},
   "outputs": [
    {
     "name": "stdout",
     "output_type": "stream",
     "text": [
      "1 :홀수\n"
     ]
    }
   ],
   "source": [
    "i=1\n",
    "if i%2==0 :\n",
    "    print(i , ':짝수')\n",
    "else :\n",
    "    print(i , ':홀수')"
   ]
  },
  {
   "cell_type": "code",
   "execution_count": null,
   "metadata": {},
   "outputs": [],
   "source": [
    "i = int(input('숫자입력>>>'))\n",
    "if i%2==0 :\n",
    "    print(i , ':짝수')\n",
    "else :\n",
    "    print(i , ':홀수')"
   ]
  },
  {
   "cell_type": "code",
   "execution_count": 14,
   "metadata": {},
   "outputs": [
    {
     "name": "stdout",
     "output_type": "stream",
     "text": [
      "국 영 수 정보 "
     ]
    }
   ],
   "source": [
    "sub =['국', '영', '수', '정보']\n",
    "for i in range(len(sub)) :\n",
    "    print(sub[i], end=' ')"
   ]
  },
  {
   "cell_type": "code",
   "execution_count": 17,
   "metadata": {},
   "outputs": [
    {
     "name": "stdout",
     "output_type": "stream",
     "text": [
      "국 영 수 정보 "
     ]
    }
   ],
   "source": [
    "sub =['국', '영', '수', '정보']\n",
    "for i, s in enumerate(sub) :\n",
    "    print(sub[i], end=' ')"
   ]
  },
  {
   "cell_type": "code",
   "execution_count": 24,
   "metadata": {},
   "outputs": [
    {
     "name": "stdout",
     "output_type": "stream",
     "text": [
      "1 교시 국 해당없음\n",
      "2 교시 영 해당없음\n",
      "3 교시 수 해당없음\n",
      "4 교시 정보 합격\n"
     ]
    }
   ],
   "source": [
    "sub =['국', '영', '수', '정보']\n",
    "for i, s in enumerate(sub) :\n",
    "    if sub[i] == '정보' :\n",
    "        print(i+1,'교시',sub[i], '합격')\n",
    "    else :\n",
    "        print(i+1,'교시',sub[i], '해당없음')"
   ]
  },
  {
   "cell_type": "code",
   "execution_count": 34,
   "metadata": {},
   "outputs": [
    {
     "name": "stdout",
     "output_type": "stream",
     "text": [
      "야~ 나도 파이썬 할 수 있어\n",
      "파이썬\n",
      "야~ 나도 파이썬 할 수 있어\n",
      "파이썬\n",
      "야~ 나도 파이썬 할 수 있어\n",
      "파이썬\n",
      "야~ 나도 파이썬 할 수 있어\n",
      "파이썬\n",
      "야~ 나도 파이썬 할 수 있어\n",
      "파이썬\n"
     ]
    }
   ],
   "source": [
    "for i in range(1,11) :\n",
    "    if i%2==0 :\n",
    "        print('파이썬')\n",
    "    else :\n",
    "        print('야~ 나도 파이썬 할 수 있어')"
   ]
  },
  {
   "cell_type": "markdown",
   "metadata": {},
   "source": [
    "### List"
   ]
  },
  {
   "cell_type": "code",
   "execution_count": 9,
   "metadata": {},
   "outputs": [],
   "source": [
    "juso = '    인천광역시 중구 참외전로 116 창의관   '"
   ]
  },
  {
   "cell_type": "code",
   "execution_count": 10,
   "metadata": {},
   "outputs": [
    {
     "data": {
      "text/plain": [
       "str"
      ]
     },
     "execution_count": 10,
     "metadata": {},
     "output_type": "execute_result"
    }
   ],
   "source": [
    "type(juso)"
   ]
  },
  {
   "cell_type": "code",
   "execution_count": 11,
   "metadata": {
    "scrolled": true
   },
   "outputs": [
    {
     "data": {
      "text/plain": [
       "28"
      ]
     },
     "execution_count": 11,
     "metadata": {},
     "output_type": "execute_result"
    }
   ],
   "source": [
    "len(juso)"
   ]
  },
  {
   "cell_type": "code",
   "execution_count": 12,
   "metadata": {},
   "outputs": [],
   "source": [
    "add=juso.strip()"
   ]
  },
  {
   "cell_type": "code",
   "execution_count": 11,
   "metadata": {},
   "outputs": [
    {
     "data": {
      "text/plain": [
       "'인천광역시 중구 참외전로 116 창의관'"
      ]
     },
     "execution_count": 11,
     "metadata": {},
     "output_type": "execute_result"
    }
   ],
   "source": [
    "add"
   ]
  },
  {
   "cell_type": "code",
   "execution_count": 13,
   "metadata": {},
   "outputs": [],
   "source": [
    "ad=add.split()"
   ]
  },
  {
   "cell_type": "code",
   "execution_count": 13,
   "metadata": {
    "scrolled": true
   },
   "outputs": [
    {
     "data": {
      "text/plain": [
       "False"
      ]
     },
     "execution_count": 13,
     "metadata": {},
     "output_type": "execute_result"
    }
   ],
   "source": [
    "add.startswith('서울')"
   ]
  },
  {
   "cell_type": "code",
   "execution_count": 16,
   "metadata": {},
   "outputs": [
    {
     "data": {
      "text/plain": [
       "True"
      ]
     },
     "execution_count": 16,
     "metadata": {},
     "output_type": "execute_result"
    }
   ],
   "source": [
    "add.endswith('관')"
   ]
  },
  {
   "cell_type": "markdown",
   "metadata": {},
   "source": [
    "### format"
   ]
  },
  {
   "cell_type": "code",
   "execution_count": 3,
   "metadata": {},
   "outputs": [
    {
     "name": "stdout",
     "output_type": "stream",
     "text": [
      "A is 사과, 배\n"
     ]
    }
   ],
   "source": [
    "s = 'A is {}, {}'\n",
    "pr = s.format('사과', '배')\n",
    "print(pr)"
   ]
  },
  {
   "cell_type": "code",
   "execution_count": 14,
   "metadata": {},
   "outputs": [
    {
     "name": "stdout",
     "output_type": "stream",
     "text": [
      "학교: 인천정보산업고 학번: 30121 이름:최연우\n"
     ]
    }
   ],
   "source": [
    "info_1 = '학교: {} 학번: {} 이름:{}'\n",
    "p = info_1.format('인천정보산업고', 30121, '최연우')\n",
    "print(p)"
   ]
  },
  {
   "cell_type": "markdown",
   "metadata": {},
   "source": [
    "### [문제1] 30부터 50까지 중에서 홀수만 출력"
   ]
  },
  {
   "cell_type": "code",
   "execution_count": 8,
   "metadata": {},
   "outputs": [
    {
     "name": "stdout",
     "output_type": "stream",
     "text": [
      "31 :홀수\n",
      "33 :홀수\n",
      "35 :홀수\n",
      "37 :홀수\n",
      "39 :홀수\n",
      "41 :홀수\n",
      "43 :홀수\n",
      "45 :홀수\n",
      "47 :홀수\n",
      "49 :홀수\n"
     ]
    }
   ],
   "source": [
    "for i in range(30,51):\n",
    "    if i%2==0 :\n",
    "            i\n",
    "    else :\n",
    "           print(i , ':홀수')\n"
   ]
  },
  {
   "cell_type": "markdown",
   "metadata": {},
   "source": [
    "### [문제2] 아이디(문자)를 입력받아 동일하면\n",
    "    "
   ]
  },
  {
   "cell_type": "markdown",
   "metadata": {},
   "source": [
    "- 안녕하세요 회원님\n",
    "- 아니면 회원가입하세요."
   ]
  },
  {
   "cell_type": "code",
   "execution_count": 14,
   "metadata": {},
   "outputs": [
    {
     "name": "stdout",
     "output_type": "stream",
     "text": [
      "아이디 입력>>>cyw020406\n",
      "안녕하세요 회원님\n"
     ]
    }
   ],
   "source": [
    "n = input(\"아이디 입력>>>\")\n",
    "s = \"cyw020406\"\n",
    "if(n == \"cyw020406\") :\n",
    "    print(\"안녕하세요 회원님\")\n",
    "else :\n",
    "    print(\"아니면 회원가입하세요\")"
   ]
  },
  {
   "cell_type": "markdown",
   "metadata": {},
   "source": [
    "### [문제3] 입력예 ) 인천정보산업고/30121/최연우"
   ]
  },
  {
   "cell_type": "markdown",
   "metadata": {},
   "source": [
    "- 학교 : 인천정보산업고\n",
    "- 학번 : 30121\n",
    "- 이름 : 최연우"
   ]
  },
  {
   "cell_type": "code",
   "execution_count": 3,
   "metadata": {},
   "outputs": [
    {
     "name": "stdout",
     "output_type": "stream",
     "text": [
      "내용입력>>인천/30121/최연우\n"
     ]
    }
   ],
   "source": [
    "stu=list(map(str, input('내용입력>>').split('/')))"
   ]
  },
  {
   "cell_type": "code",
   "execution_count": 4,
   "metadata": {},
   "outputs": [
    {
     "data": {
      "text/plain": [
       "['인천', '30121', '최연우']"
      ]
     },
     "execution_count": 4,
     "metadata": {},
     "output_type": "execute_result"
    }
   ],
   "source": [
    "stu"
   ]
  },
  {
   "cell_type": "markdown",
   "metadata": {},
   "source": [
    "### [문제4] 숫자데이터 5개를 입력받아"
   ]
  },
  {
   "cell_type": "markdown",
   "metadata": {},
   "source": [
    "- 합계\n",
    "- 평균"
   ]
  },
  {
   "cell_type": "code",
   "execution_count": 2,
   "metadata": {},
   "outputs": [
    {
     "name": "stdout",
     "output_type": "stream",
     "text": [
      "내용입력>>1 2 3 4 5\n",
      "합계 15\n",
      "평균 3.0\n"
     ]
    }
   ],
   "source": [
    "num =list(map(int, input('내용입력>>').split()))\n",
    "print(\"합계\", sum(num))\n",
    "print(\"평균\",sum(num)/len(num))"
   ]
  }
 ],
 "metadata": {
  "kernelspec": {
   "display_name": "Python 3",
   "language": "python",
   "name": "python3"
  },
  "language_info": {
   "codemirror_mode": {
    "name": "ipython",
    "version": 3
   },
   "file_extension": ".py",
   "mimetype": "text/x-python",
   "name": "python",
   "nbconvert_exporter": "python",
   "pygments_lexer": "ipython3",
   "version": "3.7.4"
  }
 },
 "nbformat": 4,
 "nbformat_minor": 2
}
